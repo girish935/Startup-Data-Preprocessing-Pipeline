{
 "cells": [
  {
   "cell_type": "markdown",
   "id": "c9926ba8-8720-429b-b852-b7f54a115581",
   "metadata": {},
   "source": [
    "## Reading and Writing files using pandas"
   ]
  },
  {
   "cell_type": "code",
   "execution_count": 3,
   "id": "427fd052-dfab-4309-91ed-777a07177d37",
   "metadata": {},
   "outputs": [
    {
     "data": {
      "text/plain": [
       "'C:\\\\Users\\\\Lenovo'"
      ]
     },
     "execution_count": 3,
     "metadata": {},
     "output_type": "execute_result"
    }
   ],
   "source": [
    "import os\n",
    "#just to check working directory\n",
    "os.getcwd()"
   ]
  },
  {
   "cell_type": "markdown",
   "id": "e36ace35-4a70-4d4a-b741-508ac111ef85",
   "metadata": {},
   "source": [
    "## step 1 : import libraries"
   ]
  },
  {
   "cell_type": "code",
   "execution_count": 21,
   "id": "d3681bbc-5daa-4833-9337-86cfba7e5e50",
   "metadata": {},
   "outputs": [],
   "source": [
    "##import Libraries \n",
    "\n",
    "import pandas as pd\n",
    "import numpy as np\n",
    "from sklearn.preprocessing import MinMaxScaler"
   ]
  },
  {
   "cell_type": "markdown",
   "id": "43d008c0-9d92-406b-923e-6ba0bf672a02",
   "metadata": {},
   "source": [
    "## Step 2 : Load data"
   ]
  },
  {
   "cell_type": "code",
   "execution_count": 13,
   "id": "8450a1b5-ab21-4fe3-9754-6d3ae7cdb669",
   "metadata": {},
   "outputs": [],
   "source": [
    "#Compaines dataset analysis\n",
    "\n",
    "df = pd.read_csv(\"Compaines.csv\")"
   ]
  },
  {
   "cell_type": "code",
   "execution_count": 15,
   "id": "49999c99-0e1a-4d17-9572-715c08ce97b0",
   "metadata": {},
   "outputs": [
    {
     "data": {
      "text/html": [
       "<div>\n",
       "<style scoped>\n",
       "    .dataframe tbody tr th:only-of-type {\n",
       "        vertical-align: middle;\n",
       "    }\n",
       "\n",
       "    .dataframe tbody tr th {\n",
       "        vertical-align: top;\n",
       "    }\n",
       "\n",
       "    .dataframe thead th {\n",
       "        text-align: right;\n",
       "    }\n",
       "</style>\n",
       "<table border=\"1\" class=\"dataframe\">\n",
       "  <thead>\n",
       "    <tr style=\"text-align: right;\">\n",
       "      <th></th>\n",
       "      <th>entity_id</th>\n",
       "      <th>name</th>\n",
       "      <th>category_code</th>\n",
       "      <th>status</th>\n",
       "      <th>founded_at</th>\n",
       "      <th>country_code</th>\n",
       "      <th>investment_rounds</th>\n",
       "      <th>first_funding_at</th>\n",
       "      <th>last_funding_at</th>\n",
       "      <th>funding_rounds</th>\n",
       "      <th>funding_total_usd</th>\n",
       "      <th>lat</th>\n",
       "      <th>lng</th>\n",
       "    </tr>\n",
       "  </thead>\n",
       "  <tbody>\n",
       "    <tr>\n",
       "      <th>0</th>\n",
       "      <td>1</td>\n",
       "      <td>Wetpaint</td>\n",
       "      <td>web</td>\n",
       "      <td>operating</td>\n",
       "      <td>10/17/2005</td>\n",
       "      <td>USA</td>\n",
       "      <td>0</td>\n",
       "      <td>10/1/2005</td>\n",
       "      <td>5/19/2008</td>\n",
       "      <td>3</td>\n",
       "      <td>39750000.00</td>\n",
       "      <td>47.606209</td>\n",
       "      <td>-122.332071</td>\n",
       "    </tr>\n",
       "    <tr>\n",
       "      <th>1</th>\n",
       "      <td>10</td>\n",
       "      <td>Flektor</td>\n",
       "      <td>games_video</td>\n",
       "      <td>acquired</td>\n",
       "      <td>10/17/2005</td>\n",
       "      <td>USA</td>\n",
       "      <td>0</td>\n",
       "      <td>10/1/2005</td>\n",
       "      <td>5/19/2008</td>\n",
       "      <td>0</td>\n",
       "      <td>14816520.42</td>\n",
       "      <td>34.021122</td>\n",
       "      <td>-118.396467</td>\n",
       "    </tr>\n",
       "    <tr>\n",
       "      <th>2</th>\n",
       "      <td>100</td>\n",
       "      <td>There</td>\n",
       "      <td>games_video</td>\n",
       "      <td>acquired</td>\n",
       "      <td>10/17/2005</td>\n",
       "      <td>USA</td>\n",
       "      <td>0</td>\n",
       "      <td>10/1/2005</td>\n",
       "      <td>5/19/2008</td>\n",
       "      <td>0</td>\n",
       "      <td>14816520.42</td>\n",
       "      <td>37.562992</td>\n",
       "      <td>-122.325525</td>\n",
       "    </tr>\n",
       "    <tr>\n",
       "      <th>3</th>\n",
       "      <td>10000</td>\n",
       "      <td>MYWEBBO</td>\n",
       "      <td>network_hosting</td>\n",
       "      <td>operating</td>\n",
       "      <td>7/26/2008</td>\n",
       "      <td>Unknown</td>\n",
       "      <td>0</td>\n",
       "      <td>10/1/2005</td>\n",
       "      <td>5/19/2008</td>\n",
       "      <td>0</td>\n",
       "      <td>14816520.42</td>\n",
       "      <td>0.000000</td>\n",
       "      <td>0.000000</td>\n",
       "    </tr>\n",
       "    <tr>\n",
       "      <th>4</th>\n",
       "      <td>10001</td>\n",
       "      <td>THE Movie Streamer</td>\n",
       "      <td>games_video</td>\n",
       "      <td>operating</td>\n",
       "      <td>7/26/2008</td>\n",
       "      <td>Unknown</td>\n",
       "      <td>0</td>\n",
       "      <td>10/1/2005</td>\n",
       "      <td>5/19/2008</td>\n",
       "      <td>0</td>\n",
       "      <td>14816520.42</td>\n",
       "      <td>0.000000</td>\n",
       "      <td>0.000000</td>\n",
       "    </tr>\n",
       "  </tbody>\n",
       "</table>\n",
       "</div>"
      ],
      "text/plain": [
       "   entity_id                name    category_code     status  founded_at  \\\n",
       "0          1            Wetpaint              web  operating  10/17/2005   \n",
       "1         10             Flektor      games_video   acquired  10/17/2005   \n",
       "2        100               There      games_video   acquired  10/17/2005   \n",
       "3      10000             MYWEBBO  network_hosting  operating   7/26/2008   \n",
       "4      10001  THE Movie Streamer      games_video  operating   7/26/2008   \n",
       "\n",
       "  country_code  investment_rounds first_funding_at last_funding_at  \\\n",
       "0          USA                  0        10/1/2005       5/19/2008   \n",
       "1          USA                  0        10/1/2005       5/19/2008   \n",
       "2          USA                  0        10/1/2005       5/19/2008   \n",
       "3      Unknown                  0        10/1/2005       5/19/2008   \n",
       "4      Unknown                  0        10/1/2005       5/19/2008   \n",
       "\n",
       "   funding_rounds  funding_total_usd        lat         lng  \n",
       "0               3        39750000.00  47.606209 -122.332071  \n",
       "1               0        14816520.42  34.021122 -118.396467  \n",
       "2               0        14816520.42  37.562992 -122.325525  \n",
       "3               0        14816520.42   0.000000    0.000000  \n",
       "4               0        14816520.42   0.000000    0.000000  "
      ]
     },
     "execution_count": 15,
     "metadata": {},
     "output_type": "execute_result"
    }
   ],
   "source": [
    "df.head()"
   ]
  },
  {
   "cell_type": "markdown",
   "id": "4644334f-6793-43a9-9bbb-2b01ff045f2d",
   "metadata": {},
   "source": [
    "## Step 3: Data Manipulation"
   ]
  },
  {
   "cell_type": "code",
   "execution_count": 24,
   "id": "e751958c-14b0-4474-ab4a-bc98e2ed73c8",
   "metadata": {},
   "outputs": [
    {
     "name": "stdout",
     "output_type": "stream",
     "text": [
      "  founded_at  founded_year  company_age\n",
      "0 2005-10-17        2005.0         20.0\n",
      "1 2005-10-17        2005.0         20.0\n",
      "2 2005-10-17        2005.0         20.0\n",
      "3 2008-07-26        2008.0         17.0\n",
      "4 2008-07-26        2008.0         17.0\n",
      "5 2007-06-27        2007.0         18.0\n",
      "6 2008-08-20        2008.0         17.0\n",
      "7 2008-08-20        2008.0         17.0\n",
      "8 2008-08-20        2008.0         17.0\n",
      "9 2011-08-01        2011.0         14.0\n"
     ]
    }
   ],
   "source": [
    "#Extract Year & Calculate Company Age\n",
    "\n",
    "df['founded_at'] = pd.to_datetime(df['founded_at'], errors='coerce')\n",
    "df['founded_year'] = df['founded_at'].dt.year\n",
    "df['company_age'] = 2025 - df['founded_year']\n",
    "print(df[['founded_at', 'founded_year', 'company_age']].head(10))"
   ]
  },
  {
   "cell_type": "code",
   "execution_count": 25,
   "id": "d0b9ee28-80ee-43a0-aa60-df423adde99d",
   "metadata": {},
   "outputs": [
    {
     "name": "stdout",
     "output_type": "stream",
     "text": [
      "28\n",
      "28\n",
      "28\n"
     ]
    }
   ],
   "source": [
    "print(df['founded_at'].isnull().sum())\n",
    "print(df['founded_year'].isnull().sum())\n",
    "print(df['company_age'].isnull().sum())"
   ]
  },
  {
   "cell_type": "code",
   "execution_count": 26,
   "id": "44cd13c2-0495-4c18-8c72-e71eba3c1ab1",
   "metadata": {},
   "outputs": [
    {
     "name": "stdout",
     "output_type": "stream",
     "text": [
      "Minimum values:\n",
      " funding_total_usd    0.0\n",
      "funding_rounds       0.0\n",
      "investment_rounds    0.0\n",
      "company_age          0.0\n",
      "dtype: float64\n",
      "Maximum values:\n",
      " funding_total_usd    1.0\n",
      "funding_rounds       1.0\n",
      "investment_rounds    1.0\n",
      "company_age          1.0\n",
      "dtype: float64\n"
     ]
    }
   ],
   "source": [
    "# Normalize Numeric Columns (Scaling)\n",
    "scaler = MinMaxScaler()\n",
    "numeric_cols = ['funding_total_usd', 'funding_rounds', 'investment_rounds', 'company_age']\n",
    "# Replace NaNs if any\n",
    "df[numeric_cols] = df[numeric_cols].fillna(0)\n",
    "# Apply scaling\n",
    "df[numeric_cols] = scaler.fit_transform(df[numeric_cols])\n",
    "print(\"Minimum values:\\n\", df[numeric_cols].min())\n",
    "print(\"Maximum values:\\n\", df[numeric_cols].max())"
   ]
  },
  {
   "cell_type": "code",
   "execution_count": 27,
   "id": "86f90b49-314d-46f0-93bc-ff7c3ba29470",
   "metadata": {},
   "outputs": [
    {
     "name": "stdout",
     "output_type": "stream",
     "text": [
      "   entity_id                name    category_code     status founded_at  \\\n",
      "0          1            Wetpaint              web  operating 2005-10-17   \n",
      "1         10             Flektor      games_video   acquired 2005-10-17   \n",
      "2        100               There      games_video   acquired 2005-10-17   \n",
      "3      10000             MYWEBBO  network_hosting  operating 2008-07-26   \n",
      "4      10001  THE Movie Streamer      games_video  operating 2008-07-26   \n",
      "\n",
      "  country_code  investment_rounds first_funding_at last_funding_at  \\\n",
      "0          USA                0.0        10/1/2005       5/19/2008   \n",
      "1          USA                0.0        10/1/2005       5/19/2008   \n",
      "2          USA                0.0        10/1/2005       5/19/2008   \n",
      "3      Unknown                0.0        10/1/2005       5/19/2008   \n",
      "4      Unknown                0.0        10/1/2005       5/19/2008   \n",
      "\n",
      "   funding_rounds  funding_total_usd        lat         lng  founded_year  \\\n",
      "0             0.2           0.006974  47.606209 -122.332071        2005.0   \n",
      "1             0.0           0.002599  34.021122 -118.396467        2005.0   \n",
      "2             0.0           0.002599  37.562992 -122.325525        2005.0   \n",
      "3             0.0           0.002599   0.000000    0.000000        2008.0   \n",
      "4             0.0           0.002599   0.000000    0.000000        2008.0   \n",
      "\n",
      "   company_age  \n",
      "0     0.161290  \n",
      "1     0.161290  \n",
      "2     0.161290  \n",
      "3     0.137097  \n",
      "4     0.137097  \n"
     ]
    }
   ],
   "source": [
    "print(df.head())"
   ]
  },
  {
   "cell_type": "code",
   "execution_count": 28,
   "id": "90857791-c4aa-4947-a66e-6be093e7f720",
   "metadata": {},
   "outputs": [
    {
     "name": "stdout",
     "output_type": "stream",
     "text": [
      "   entity_id                name     status founded_at  investment_rounds  \\\n",
      "0          1            Wetpaint  operating 2005-10-17                0.0   \n",
      "1         10             Flektor   acquired 2005-10-17                0.0   \n",
      "2        100               There   acquired 2005-10-17                0.0   \n",
      "3      10000             MYWEBBO  operating 2008-07-26                0.0   \n",
      "4      10001  THE Movie Streamer  operating 2008-07-26                0.0   \n",
      "\n",
      "  first_funding_at last_funding_at  funding_rounds  funding_total_usd  \\\n",
      "0        10/1/2005       5/19/2008             0.2           0.006974   \n",
      "1        10/1/2005       5/19/2008             0.0           0.002599   \n",
      "2        10/1/2005       5/19/2008             0.0           0.002599   \n",
      "3        10/1/2005       5/19/2008             0.0           0.002599   \n",
      "4        10/1/2005       5/19/2008             0.0           0.002599   \n",
      "\n",
      "         lat  ...  country_code_Unknown  country_code_VCT  country_code_VEN  \\\n",
      "0  47.606209  ...                 False             False             False   \n",
      "1  34.021122  ...                 False             False             False   \n",
      "2  37.562992  ...                 False             False             False   \n",
      "3   0.000000  ...                  True             False             False   \n",
      "4   0.000000  ...                  True             False             False   \n",
      "\n",
      "   country_code_VGB  country_code_VIR  country_code_VNM  country_code_YEM  \\\n",
      "0             False             False             False             False   \n",
      "1             False             False             False             False   \n",
      "2             False             False             False             False   \n",
      "3             False             False             False             False   \n",
      "4             False             False             False             False   \n",
      "\n",
      "   country_code_ZAF  country_code_ZMB  country_code_ZWE  \n",
      "0             False             False             False  \n",
      "1             False             False             False  \n",
      "2             False             False             False  \n",
      "3             False             False             False  \n",
      "4             False             False             False  \n",
      "\n",
      "[5 rows x 230 columns]\n"
     ]
    }
   ],
   "source": [
    "#Encode Categorical Columns\n",
    "df = pd.get_dummies(df, columns=['category_code', 'country_code'], drop_first=True)\n",
    "print(df.head())"
   ]
  },
  {
   "cell_type": "markdown",
   "id": "7f4e54a9-faad-4619-a373-53c1c0ef5491",
   "metadata": {},
   "source": [
    "## Step 4: Data Labeling (Active_Status)"
   ]
  },
  {
   "cell_type": "code",
   "execution_count": 29,
   "id": "b4930bc1-7497-486b-8032-a96a6f3aa706",
   "metadata": {},
   "outputs": [
    {
     "name": "stdout",
     "output_type": "stream",
     "text": [
      "0    operating\n",
      "1     acquired\n",
      "2     acquired\n",
      "3    operating\n",
      "4    operating\n",
      "5    operating\n",
      "6    operating\n",
      "7    operating\n",
      "8    operating\n",
      "9    operating\n",
      "Name: status, dtype: object\n"
     ]
    }
   ],
   "source": [
    "# Normalize status\n",
    "df['status'] = df['status'].str.lower()\n",
    "print(df['status'].head(10))"
   ]
  },
  {
   "cell_type": "code",
   "execution_count": 30,
   "id": "a997a796-484f-4fc1-a4a7-c2385c32a369",
   "metadata": {},
   "outputs": [
    {
     "name": "stdout",
     "output_type": "stream",
     "text": [
      "      status  Active_Status\n",
      "0  operating              1\n",
      "1   acquired              0\n",
      "2   acquired              0\n",
      "3  operating              1\n",
      "4  operating              1\n",
      "5  operating              1\n",
      "6  operating              1\n",
      "7  operating              1\n",
      "8  operating              1\n",
      "9  operating              1\n"
     ]
    }
   ],
   "source": [
    "# Create binary target column\n",
    "df['Active_Status'] = df['status'].apply(lambda x: 0 if x in ['acquired', 'closed'] else 1)\n",
    "print(df[['status', 'Active_Status']].head(10))"
   ]
  },
  {
   "cell_type": "markdown",
   "id": "1b2b41b7-4665-471e-b072-f164f11d2879",
   "metadata": {},
   "source": [
    "## Step 5: Save Preprocessed Dataset"
   ]
  },
  {
   "cell_type": "code",
   "execution_count": 32,
   "id": "83157651-0a97-4971-9590-11687e702857",
   "metadata": {},
   "outputs": [],
   "source": [
    "df.to_csv(\"processed_companies_dataset.csv\", index=False)"
   ]
  },
  {
   "cell_type": "code",
   "execution_count": 36,
   "id": "17402e7f-20f4-4d67-ab74-c718c73ca449",
   "metadata": {},
   "outputs": [
    {
     "name": "stdout",
     "output_type": "stream",
     "text": [
      "   entity_id                name     status  founded_at  investment_rounds  \\\n",
      "0          1            Wetpaint  operating  2005-10-17                0.0   \n",
      "1         10             Flektor   acquired  2005-10-17                0.0   \n",
      "2        100               There   acquired  2005-10-17                0.0   \n",
      "3      10000             MYWEBBO  operating  2008-07-26                0.0   \n",
      "4      10001  THE Movie Streamer  operating  2008-07-26                0.0   \n",
      "\n",
      "  first_funding_at last_funding_at  funding_rounds  funding_total_usd  \\\n",
      "0        10/1/2005       5/19/2008             0.2           0.006974   \n",
      "1        10/1/2005       5/19/2008             0.0           0.002599   \n",
      "2        10/1/2005       5/19/2008             0.0           0.002599   \n",
      "3        10/1/2005       5/19/2008             0.0           0.002599   \n",
      "4        10/1/2005       5/19/2008             0.0           0.002599   \n",
      "\n",
      "         lat  ...  country_code_VCT  country_code_VEN  country_code_VGB  \\\n",
      "0  47.606209  ...             False             False             False   \n",
      "1  34.021122  ...             False             False             False   \n",
      "2  37.562992  ...             False             False             False   \n",
      "3   0.000000  ...             False             False             False   \n",
      "4   0.000000  ...             False             False             False   \n",
      "\n",
      "   country_code_VIR  country_code_VNM  country_code_YEM  country_code_ZAF  \\\n",
      "0             False             False             False             False   \n",
      "1             False             False             False             False   \n",
      "2             False             False             False             False   \n",
      "3             False             False             False             False   \n",
      "4             False             False             False             False   \n",
      "\n",
      "   country_code_ZMB  country_code_ZWE  Active_Status  \n",
      "0             False             False              1  \n",
      "1             False             False              0  \n",
      "2             False             False              0  \n",
      "3             False             False              1  \n",
      "4             False             False              1  \n",
      "\n",
      "[5 rows x 231 columns]\n",
      "      status  Active_Status  company_age\n",
      "0  operating              1     0.161290\n",
      "1   acquired              0     0.161290\n",
      "2   acquired              0     0.161290\n",
      "3  operating              1     0.137097\n",
      "4  operating              1     0.137097\n",
      "5  operating              1     0.145161\n",
      "6  operating              1     0.137097\n",
      "7  operating              1     0.137097\n",
      "8  operating              1     0.137097\n",
      "9  operating              1     0.112903\n"
     ]
    }
   ],
   "source": [
    "# CSV file read \n",
    "df_saved = pd.read_csv(\"processed_companies_dataset.csv\")\n",
    "print(df_saved.head())\n",
    "print(df_saved[['status', 'Active_Status', 'company_age']].head(10))"
   ]
  },
  {
   "cell_type": "markdown",
   "id": "f8aeca0d-ad22-4bf2-ae2a-c5d5437284a9",
   "metadata": {},
   "source": [
    "### 📊 Data Preprocessing Report – Startup Dataset"
   ]
  },
  {
   "cell_type": "markdown",
   "id": "3c4d9ddc-df7f-4f6f-90c5-7f99f7fdd566",
   "metadata": {},
   "source": [
    "# 📊 Data Preprocessing Report – Startup Dataset\n",
    "\n",
    "## ✅ Tasks Performed:\n",
    "\n",
    "### 🔹 Feature Engineering:\n",
    "- Extracted `founded_year` from `founded_at`\n",
    "- Created new column `company_age` using: `2025 - founded_year`\n",
    "\n",
    "### 🔹 Data Normalization:\n",
    "- Scaled numerical columns using `MinMaxScaler`:\n",
    "  - `funding_total_usd`\n",
    "  - `funding_rounds`\n",
    "  - `investment_rounds`\n",
    "  - `company_age`\n",
    "\n",
    "### 🔹 Encoding:\n",
    "- One-hot encoded categorical columns using `pd.get_dummies()`:\n",
    "  - `category_code`\n",
    "  - `country_code`\n",
    "\n",
    "### 🔹 Labeling (Target Column):\n",
    "- Created binary target column `Active_Status`\n",
    "  - 1 → Active (Operating or IPO)\n",
    "  - 0 → Not Active (Acquired or Closed)\n",
    "\n",
    "### 🔹 Output:\n",
    "- Saved the processed dataset as `processed_companies_dataset.csv` using:\n",
    "  ```python\n",
    "  df.to_csv(\"processed_companies_dataset.csv\", index=False)\n"
   ]
  },
  {
   "cell_type": "code",
   "execution_count": null,
   "id": "fac881c6-c3c3-4ecc-99f8-8d9484f2534c",
   "metadata": {},
   "outputs": [],
   "source": []
  }
 ],
 "metadata": {
  "kernelspec": {
   "display_name": "Python 3 (ipykernel)",
   "language": "python",
   "name": "python3"
  },
  "language_info": {
   "codemirror_mode": {
    "name": "ipython",
    "version": 3
   },
   "file_extension": ".py",
   "mimetype": "text/x-python",
   "name": "python",
   "nbconvert_exporter": "python",
   "pygments_lexer": "ipython3",
   "version": "3.13.5"
  }
 },
 "nbformat": 4,
 "nbformat_minor": 5
}
